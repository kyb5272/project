{
  "nbformat": 4,
  "nbformat_minor": 0,
  "metadata": {
    "colab": {
      "name": "ossppl_project.ipynb",
      "provenance": [],
      "collapsed_sections": [
        "NUD-hySm_uPc"
      ],
      "toc_visible": true
    },
    "kernelspec": {
      "name": "python3",
      "display_name": "Python 3"
    }
  },
  "cells": [
    {
      "cell_type": "markdown",
      "metadata": {
        "id": "NUD-hySm_uPc"
      },
      "source": [
        "# **Open Source SW and Python Programming Project: Implementation of Subway Navigation**\n",
        "\n",
        "In this project, you will implement a navigation system for Seoul subway stations, especially **step by step**\n",
        "\n",
        "\n"
      ]
    },
    {
      "cell_type": "markdown",
      "metadata": {
        "id": "uUsnepoeAhVl"
      },
      "source": [
        "# 0. Initialization\n",
        "\n",
        "Read subway station information by reading the file **simplified_subway_info.xlsx**\n",
        "*  The excel file contains subway station information of Seoul subway line 1 ~ 4\n",
        "*  When you execute this sourcecode, you MUST upload these files in your Colab runtime environment\n",
        "*   **MUST NOT** change this Initialization code cell"
      ]
    },
    {
      "cell_type": "code",
      "metadata": {
        "id": "qnbOlA6o_mIl"
      },
      "source": [
        "import xlrd\n",
        "\n",
        "# Read data file\n",
        "data = xlrd.open_workbook(\"simplified_subway_info.xlsx\")\n",
        "data = data.sheet_by_name('Sheet1')\n",
        "\n",
        "# Store the loaded book object as a string list in subwayStation variable\n",
        "subwayStation = []\n",
        "for line in range(4) :\n",
        "    cur = [x for x in data.col_values(line) if x]    \n",
        "    subwayStation.append(cur[1:])"
      ],
      "execution_count": null,
      "outputs": []
    },
    {
      "cell_type": "markdown",
      "metadata": {
        "id": "DBXU61Tn_vKS"
      },
      "source": [
        "# 1. Your implementation\n",
        "Let's start the implementation of a subway naviation system by using the loaded subway station information :)\n",
        "\n",
        "*   You can access the subway station information by referring to **subwayStation** variable (list type)"
      ]
    },
    {
      "cell_type": "code",
      "metadata": {
        "id": "7h-scy6AI8Re",
        "colab": {
          "base_uri": "https://localhost:8080/"
        },
        "outputId": "99ec9ca4-4bed-403b-e849-08732c682cf6"
      },
      "source": [
        "while True :\n",
        "  print(\"*\"*50)\n",
        "  print(\"1. Display subway line information (Line 1 ~ 4)\")\n",
        "  print(\"2. Display subway station information\")\n",
        "  print(\"3. Exit\")\n",
        "  print(\"*\"*50)\n",
        "  option = int(input(\"Please choose one of the options (1 ~ 3): \"))\n",
        "  print('\\n')\n",
        "\n",
        "  if option == 1 :\n",
        "    print(\"*\"*50)\n",
        "    print(\"Subway line information service\")\n",
        "    print(\"*\"*50)\n",
        "    while True :\n",
        "      line = int(input(\">> Please enter a subway line number (1 - 4): \"))\n",
        "      if line == 1 :\n",
        "        print(subwayStation[0])\n",
        "        print(\"\\n\")\n",
        "        break\n",
        "      elif line == 2 :\n",
        "        print(subwayStation[1])\n",
        "        print(\"\\n\")\n",
        "        break\n",
        "      elif line == 3 :\n",
        "        print(subwayStation[2])\n",
        "        print(\"\\n\")\n",
        "        break\n",
        "      elif line == 4 :\n",
        "        print(subwayStation[3])\n",
        "        print(\"\\n\")\n",
        "        break\n",
        "     \n",
        "  \n",
        "  elif option == 2 :\n",
        "    print(\"*\"*50)\n",
        "    print(\"Subway station information service\")\n",
        "    print(\"*\"*50)\n",
        "    while True :\n",
        "      station = input(\">> please enter a subway station name: \")\n",
        "      check = 0\n",
        "      for i in subwayStation[0] :\n",
        "        if i==station :\n",
        "          print(station, \"station is in Line 1\")\n",
        "          check = 1\n",
        "      for i in subwayStation[1] :\n",
        "        if i==station :\n",
        "          print(station, \"station is in Line 2\")\n",
        "          check = 1\n",
        "      for i in subwayStation[2] :\n",
        "        if i==station :\n",
        "          print(station, \"station is in Line 3\")\n",
        "          check = 1\n",
        "      for i in subwayStation[3] :\n",
        "        if i==station :\n",
        "          print(station, \"station is in Line 4\")\n",
        "          check = 1\n",
        "      if check == 1 :\n",
        "        print(\"\\n\")\n",
        "        break\n",
        "\n",
        "\n",
        "  elif option == 3 :\n",
        "    break\n",
        "\n"
      ],
      "execution_count": null,
      "outputs": [
        {
          "output_type": "stream",
          "text": [
            "**************************************************\n",
            "1. Display subway line information (Line 1 ~ 4)\n",
            "2. Display subway station information\n",
            "3. Exit\n",
            "**************************************************\n",
            "Please choose one of the options (1 ~ 3): 1\n",
            "\n",
            "\n",
            "**************************************************\n",
            "Subway line information service\n",
            "**************************************************\n",
            ">> Please enter a subway line number (1 - 4): 2\n",
            "['신도림', '대림', '구로디지털단지', '신대방', '신림', '봉천', '서울대입구', '낙성대', '사당', '방배', '서초', '교대', '강남', '역삼', '선릉', '삼성', '종합운동장', '잠실새내', '잠실', '잠실나루', '강변', '구의', '건대입구', '성수', '뚝섬', '한양대', '왕십리', '상왕십리', '신당', '동대문역사문화공원', '을지로4가', '을지로3가', '을지로입구', '시청', '충정로', '아현', '이대', '신촌', '홍대입구', '합정', '당산', '영등포구청', '문래']\n",
            "\n",
            "\n",
            "**************************************************\n",
            "1. Display subway line information (Line 1 ~ 4)\n",
            "2. Display subway station information\n",
            "3. Exit\n",
            "**************************************************\n",
            "Please choose one of the options (1 ~ 3): 2\n",
            "\n",
            "\n",
            "**************************************************\n",
            "Subway station information service\n",
            "**************************************************\n",
            ">> please enter a subway station name: 서울역\n",
            "서울역 station is in Line 1\n",
            "서울역 station is in Line 4\n",
            "\n",
            "\n",
            "**************************************************\n",
            "1. Display subway line information (Line 1 ~ 4)\n",
            "2. Display subway station information\n",
            "3. Exit\n",
            "**************************************************\n",
            "Please choose one of the options (1 ~ 3): 3\n",
            "\n",
            "\n"
          ],
          "name": "stdout"
        }
      ]
    }
  ]
}