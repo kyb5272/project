{
  "nbformat": 4,
  "nbformat_minor": 0,
  "metadata": {
    "colab": {
      "name": "ossppl_project.v3.ipynb",
      "provenance": [],
      "collapsed_sections": [
        "NUD-hySm_uPc"
      ]
    },
    "kernelspec": {
      "display_name": "Python 3",
      "name": "python3"
    }
  },
  "cells": [
    {
      "cell_type": "markdown",
      "metadata": {
        "id": "NUD-hySm_uPc"
      },
      "source": [
        "# **Open Source SW and Python Programming Project: Implementation of Subway Navigation**\n",
        "\n",
        "In this project, you will implement a navigation system for Seoul subway stations, especially **step by step**\n",
        "\n",
        "\n"
      ]
    },
    {
      "cell_type": "markdown",
      "metadata": {
        "id": "uUsnepoeAhVl"
      },
      "source": [
        "# 0. Initialization\n",
        "\n",
        "Read subway station information by reading the file **simplified_subway_info.xlsx**\n",
        "*  The excel file contains subway station information of Seoul subway line 1 ~ 4\n",
        "*  When you execute this sourcecode, you MUST upload these files in your Colab runtime environment\n",
        "*   **MUST NOT** change this Initialization code cell"
      ]
    },
    {
      "cell_type": "code",
      "metadata": {
        "id": "qnbOlA6o_mIl"
      },
      "source": [
        "import xlrd\n",
        "\n",
        "# Read data file\n",
        "data = xlrd.open_workbook(\"simplified_subway_info.xlsx\")\n",
        "data = data.sheet_by_name('Sheet1')\n",
        "\n",
        "# Store the loaded book object as a string list in subwayStation variable\n",
        "subwayStation = []\n",
        "for line in range(4) :\n",
        "    cur = [x for x in data.col_values(line) if x]    \n",
        "    subwayStation.append(cur[1:])"
      ],
      "execution_count": 152,
      "outputs": []
    },
    {
      "cell_type": "markdown",
      "metadata": {
        "id": "DBXU61Tn_vKS"
      },
      "source": [
        "# 1. Your implementation\n",
        "Let's start the implementation of a subway naviation system by using the loaded subway station information :)\n",
        "\n",
        "*   You can access the subway station information by referring to **subwayStation** variable (list type)"
      ]
    },
    {
      "cell_type": "code",
      "metadata": {
        "id": "pIacZxVBBRYj"
      },
      "source": [
        "class SubwayLine:                               \n",
        "    def __init__(self, stations):\n",
        "        self.stations = tuple(stations)\n",
        "\n",
        "    def __str__(self):\n",
        "        return str(self.stations)\n",
        "    \n",
        "    def __and__(self, other):\n",
        "        return tuple(set(self.stations) & set(other.stations))\n",
        "\n",
        "    def __contains__(self, station):\n",
        "        if station in stations:\n",
        "            return True\n",
        "        else:\n",
        "            return False        \n",
        "    \n",
        "    def getPath(self, dpt, dst):            \n",
        "\n",
        "        if (dpt not in self.stations) or (dst not in self.stations):\n",
        "            return None\n",
        "        else:\n",
        "            dptIndex = self.stations.index(dpt)   # 출발역의 인덱스를 저장\n",
        "            dstIndex = self.stations.index(dst)   # 도착역의 인덱스를 저장\n",
        "\n",
        "            path = list(self.stations[min(dptIndex, dstIndex):max(dptIndex, dstIndex) + 1])   # 인덱스값이 더 작은 것부터 큰 값으로 역 이름 슬라이싱\n",
        "            if dptIndex > dstIndex:             # 만일 출발역의 인덱스가 도착역의 인덱스 보다 크다면 역 뒤집기\n",
        "                path.reverse()\n",
        "\n",
        "            return path\n"
      ],
      "execution_count": 153,
      "outputs": []
    },
    {
      "cell_type": "code",
      "metadata": {
        "id": "ATQd418oR7oi"
      },
      "source": [
        "keys = ['Line1', 'Line2', 'Line3', 'Line4']\n",
        "values = subwayStation\n",
        "subwayStation = {}\n",
        "for line, stations in zip(keys, values):                        # subwayStation 객체를 SubwayLine instance들의 dictonary로 변환\n",
        "    subwayStation[line] = SubwayLine(stations)"
      ],
      "execution_count": 154,
      "outputs": []
    },
    {
      "cell_type": "code",
      "metadata": {
        "colab": {
          "base_uri": "https://localhost:8080/"
        },
        "id": "7h-scy6AI8Re",
        "outputId": "d253bf06-76d6-4113-83e9-0a00212e600d"
      },
      "source": [
        "separator = '*****' * 10\n",
        "inputMsg = '>> [INPUT] {}'\n",
        "outputMsg = '>> [OUTPUT] {}'\n",
        "errorMsg = '>> [ERROR] {}'\n",
        "\n",
        "def dispSubwayLineInfo():                   #option 1\n",
        "    while True:                 # try-except 구문으로 값이 key값에 라인이 없을 때 오류 출력\n",
        "        try :\n",
        "            line = 'Line' + str(input(inputMsg.format('Please enter a subway line number (1 - 4):'))) \n",
        "            print(outputMsg.format(line + ': ' + str(subwayStation[line])))     # subwayStation라는 dictonary의 key값에 라인이 있는지                      \n",
        "        except KeyError:\n",
        "            print(errorMsg.format('Please enter a valid subway line number.'))\n",
        "        else:\n",
        "            return\n",
        "\n",
        "def getStationAndLines(msg):                            # option 2와 option 3에 쓰임\n",
        "    while True:\n",
        "        station = input(inputMsg.format(msg))           # parameter로 메세지를 받아서 지하철이름 입력\n",
        "\n",
        "        lines = []\n",
        "        for line in subwayStation:                      # 입력받은 지하철 역 이름이 subwayStation의 key값(라인)을 돌면서 있는지 확인 \n",
        "            if station in subwayStation[line].stations:          # 있다면 lines 라는 역이 속하는 라인을 list에 추가\n",
        "                lines.append(line)\n",
        "\n",
        "        if len(lines) == 0:                             # 포함되었다면 지하철 역이름이 어느 라인에는 속해 있음 없다면 오류\n",
        "            print(errorMsg.format('Please enter a valid subway station name.'))\n",
        "        else:\n",
        "            return station, lines                       # 지하철 역 이름과 속하는 라인을 리턴\n",
        "\n",
        "def dispSubwayStationInfo():                # option 2\n",
        "    station, lines = getStationAndLines('Please enter a subway station name:')      # 입력받은 지하철 역 이름과 속하는 라인 저장 이후 출력\n",
        "    print(outputMsg.format(station + ' is in ' + str(lines)))\n",
        "\n",
        "def dispPathBetweenStations():\n",
        "    dpt, dptLines = getStationAndLines('Please enter a departure station name:')    # 출발역을 입력, getStationAndLines를 통해 지하철 역 이름과 라인 저장\n",
        "    dst, dstLines = getStationAndLines('Please enter a destination station name:')  # 도착역 ~\n",
        "\n",
        "    commonLine = tuple(set(dptLines) & set(dstLines))       # set을 통해 속하는 라인의 교집합 구함 \n",
        "    if len(commonLine) > 0:                     # 출발역과 도착역의 공통된 라인이 있다.\n",
        "        print(subwayStation[commonLine[0]].getPath(dpt, dst))      # 길찾기\n",
        "        return\n",
        "\n",
        "    for dptLine in dptLines:           # 환승이 필요한 경우\n",
        "        for dstLine in dstLines:\n",
        "            \n",
        "            commonStation = tuple(set(subwayStation[dptLine].stations) & set(subwayStation[dstLine].stations))        # 환승역 찾기\n",
        "            if len(commonStation) > 0:\n",
        "                print(subwayStation[dptLine].getPath(dpt, commonStation[0]))      # 출발역에서 환승역까지의 역 출력\n",
        "                print(outputMsg.format('Transfer from ' + dptLine + ' to ' + dstLine + ' at ' + commonStation[0])) # 환승한 라인 출력\n",
        "                print(subwayStation[dstLine].getPath(commonStation[0], dst))       # 환승역에서 도착역까지의 역 출력\n",
        "                return\n",
        "\n",
        "while True:\n",
        "    print(separator)\n",
        "    print('1. Display subway line information (Line 1 ~ 4)')\n",
        "    print('2. Display subway station information')\n",
        "    print('3. Find a path between two subway stations')\n",
        "    print('4. Exit')\n",
        "    print(separator)\n",
        "\n",
        "    \n",
        "    try :                                           # try - except 구문으로 입력된 값이 정수가 아닐 때 오류 출력\n",
        "        option = int(input(inputMsg.format('Please choose one of the options (1 - 4):')))\n",
        "    except ValueError:                  \n",
        "        print(errorMsg.format(\"Please choose a valid interger option\"))\n",
        "\n",
        "    if option == 1:\n",
        "        print(separator)\n",
        "        print('Subway line information service')\n",
        "        print(separator)\n",
        "        dispSubwayLineInfo()\n",
        "        \n",
        "    elif option == 2:\n",
        "        print(separator)\n",
        "        print('Subway station information service')\n",
        "        print(separator)\n",
        "        dispSubwayStationInfo()\n",
        "\n",
        "    elif option == 3:\n",
        "        print(separator)\n",
        "        print('Subway navigation service')\n",
        "        print(separator)\n",
        "        dispPathBetweenStations()\n",
        "\n",
        "    elif option == 4:\n",
        "        print(separator)\n",
        "        print(outputMsg.format('Bye bye~'))\n",
        "        break\n",
        "\n",
        "    else:\n",
        "        print(errorMsg.format('Please choose a valid option.'))"
      ],
      "execution_count": 155,
      "outputs": [
        {
          "output_type": "stream",
          "text": [
            "**************************************************\n",
            "1. Display subway line information (Line 1 ~ 4)\n",
            "2. Display subway station information\n",
            "3. Find a path between two subway stations\n",
            "4. Exit\n",
            "**************************************************\n",
            ">> [INPUT] Please choose one of the options (1 - 4):1\n",
            "**************************************************\n",
            "Subway line information service\n",
            "**************************************************\n",
            ">> [INPUT] Please enter a subway line number (1 - 4):4\n",
            ">> [OUTPUT] Line4: ('당고개', '상계', '노원', '창동', '쌍문', '수유', '미아', '미아사거리', '길음', '성신여대입구', '한성대입구', '혜화', '동대문', '동대문역사문화공원', '충무로', '명동', '회현', '서울역', '숙대입구', '삼각지', '신용산', '이촌', '동작', '총신대입구', '사당', '남태령', '선바위', '경마공원', '대공원', '과천', '정부과천청사', '인덕원', '평촌', '범계', '금정', '산본', '수리산', '대야미', '반월', '상록수', '한대앞', '중앙', '고잔', '초지', '안산', '신길온천', '정왕', '오이도')\n",
            "**************************************************\n",
            "1. Display subway line information (Line 1 ~ 4)\n",
            "2. Display subway station information\n",
            "3. Find a path between two subway stations\n",
            "4. Exit\n",
            "**************************************************\n",
            ">> [INPUT] Please choose one of the options (1 - 4):4\n",
            "**************************************************\n",
            ">> [OUTPUT] Bye bye~\n"
          ],
          "name": "stdout"
        }
      ]
    },
    {
      "cell_type": "code",
      "metadata": {
        "id": "IsiggzmY5KvZ"
      },
      "source": [
        ""
      ],
      "execution_count": 155,
      "outputs": []
    }
  ]
}